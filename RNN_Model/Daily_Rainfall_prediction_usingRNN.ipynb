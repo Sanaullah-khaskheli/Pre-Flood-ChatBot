{
  "nbformat": 4,
  "nbformat_minor": 0,
  "metadata": {
    "colab": {
      "provenance": []
    },
    "kernelspec": {
      "name": "python3",
      "display_name": "Python 3"
    },
    "language_info": {
      "name": "python"
    }
  },
  "cells": [
    {
      "cell_type": "code",
      "execution_count": 1,
      "metadata": {
        "colab": {
          "base_uri": "https://localhost:8080/"
        },
        "id": "hMwJrPUJNFO1",
        "outputId": "4ee192a5-148d-4013-aa08-437f2879a47c"
      },
      "outputs": [
        {
          "output_type": "stream",
          "name": "stdout",
          "text": [
            "Collecting keras==2.12.0\n",
            "  Downloading keras-2.12.0-py2.py3-none-any.whl (1.7 MB)\n",
            "\u001b[2K     \u001b[90m━━━━━━━━━━━━━━━━━━━━━━━━━━━━━━━━━━━━━━━━\u001b[0m \u001b[32m1.7/1.7 MB\u001b[0m \u001b[31m9.1 MB/s\u001b[0m eta \u001b[36m0:00:00\u001b[0m\n",
            "\u001b[?25hInstalling collected packages: keras\n",
            "  Attempting uninstall: keras\n",
            "    Found existing installation: keras 2.15.0\n",
            "    Uninstalling keras-2.15.0:\n",
            "      Successfully uninstalled keras-2.15.0\n",
            "\u001b[31mERROR: pip's dependency resolver does not currently take into account all the packages that are installed. This behaviour is the source of the following dependency conflicts.\n",
            "tensorflow 2.15.0 requires keras<2.16,>=2.15.0, but you have keras 2.12.0 which is incompatible.\u001b[0m\u001b[31m\n",
            "\u001b[0mSuccessfully installed keras-2.12.0\n"
          ]
        }
      ],
      "source": [
        "#!pip install --upgrade tensorflow\n",
        "!pip install keras==2.12.0"
      ]
    },
    {
      "cell_type": "code",
      "source": [
        "import pandas as pd\n",
        "from sklearn.model_selection import train_test_split\n",
        "from sklearn.preprocessing import StandardScaler, MinMaxScaler\n",
        "from sklearn.metrics import mean_squared_error\n",
        "from keras.models import Sequential\n",
        "from keras.layers import Dense, SimpleRNN, LSTM, Dropout\n",
        "import matplotlib.pyplot as plt\n",
        "import numpy as np\n",
        "\n",
        "import seaborn as sns\n",
        "import plotly.express as px\n",
        "%matplotlib inline\n",
        "pd.plotting.register_matplotlib_converters()\n",
        "from tensorflow.keras.models import Sequential\n",
        "from tensorflow.keras.layers import Dense\n",
        "from tensorflow.keras.wrappers.scikit_learn import KerasRegressor\n",
        "from sklearn.metrics import mean_absolute_error\n",
        "from keras.callbacks import EarlyStopping\n",
        "from tensorflow.keras.layers import SimpleRNN, Dense, Dropout\n",
        "from sklearn.metrics import mean_squared_error, mean_absolute_error, r2_score"
      ],
      "metadata": {
        "id": "kjds7UyHNStp"
      },
      "execution_count": 2,
      "outputs": []
    },
    {
      "cell_type": "markdown",
      "metadata": {
        "id": "PpBMFRXDA3k1"
      },
      "source": [
        "#Data Preprocessing Function\n"
      ]
    },
    {
      "cell_type": "code",
      "execution_count": 3,
      "metadata": {
        "id": "B6lPyUYxA2tm"
      },
      "outputs": [],
      "source": [
        "def preprocess_data(df, scaler_type='MinMax'):\n",
        "    df['date_time'] = pd.to_datetime(df['date_time'])\n",
        "    features = df[['maxtempC', 'mintempC',   'uvIndex', 'WindGustKmph', 'cloudcover', 'humidity', 'pressure', 'tempC', 'visibility',\n",
        "                   'winddirDegree', 'windspeedKmph', 'DewPointC', 'FeelsLikeC', 'WindChillC']]\n",
        "    target = df['precipMM']*25.4  #converting to mm\n",
        "\n",
        "    if scaler_type == 'MinMax':\n",
        "        scaler_features = MinMaxScaler()\n",
        "        scaler_target = MinMaxScaler()\n",
        "    elif scaler_type == 'Standard':\n",
        "        scaler_features = StandardScaler()\n",
        "        scaler_target = StandardScaler()\n",
        "    else:\n",
        "        raise ValueError(\"Invalid value for scaler_type. Use 'MinMax' or 'Standard'.\")\n",
        "\n",
        "    features_scaled = scaler_features.fit_transform(features)\n",
        "    target_scaled = scaler_target.fit_transform(target.values.reshape(-1, 1))\n",
        "\n",
        "    return features_scaled, target_scaled, scaler_features, scaler_target"
      ]
    },
    {
      "cell_type": "markdown",
      "metadata": {
        "id": "5pUk8DMqAg7i"
      },
      "source": [
        "#Data Split Function"
      ]
    },
    {
      "cell_type": "code",
      "execution_count": 4,
      "metadata": {
        "id": "lRC5s_UWAokW"
      },
      "outputs": [],
      "source": [
        "def split_data(features, target, test_size=0.3, val_size=0.2):\n",
        "    # Split data into training, testing, and validation sets\n",
        "\n",
        "    # Split data into 70% training and 30% testing\n",
        "    X_train1, X_test, Y_train1, y_test = train_test_split(features, target, test_size=test_size, random_state=42)\n",
        "\n",
        "    # Then split 70% of training into 50% training and 20% validation\n",
        "    X_train, X_val, y_train, y_val = train_test_split(X_train1, Y_train1, test_size=val_size / (1 - test_size), random_state=42)\n",
        "\n",
        "    return X_train, X_test, X_val, y_train, y_test, y_val\n"
      ]
    },
    {
      "cell_type": "markdown",
      "metadata": {
        "id": "WZQv1R1KAaEr"
      },
      "source": [
        "#Building RNN Model"
      ]
    },
    {
      "cell_type": "code",
      "execution_count": 15,
      "metadata": {
        "id": "fVF9hFdyAZUf"
      },
      "outputs": [],
      "source": [
        "from keras.models import Sequential\n",
        "from keras.layers import SimpleRNN, Dropout, Dense\n",
        "from keras.callbacks import EarlyStopping\n",
        "import matplotlib.pyplot as plt\n",
        "from sklearn.metrics import mean_absolute_error\n",
        "from keras.layers import BatchNormalization\n",
        "\n",
        "def build_rnn_model(input_shape, activation, optimizer):\n",
        "    model = Sequential()\n",
        "    model.add(SimpleRNN(32, input_shape=input_shape, activation=activation, return_sequences=True))\n",
        "   # model.add(BatchNormalization())\n",
        "    model.add(Dropout(0.4))\n",
        "    model.add(SimpleRNN(16, activation=activation))\n",
        "    model.add(Dense(1, activation='linear'))\n",
        "    model.compile(optimizer=optimizer, loss='mse')\n",
        "    return model"
      ]
    },
    {
      "cell_type": "code",
      "execution_count": 16,
      "metadata": {
        "id": "_cCi_A84zSX_"
      },
      "outputs": [],
      "source": [
        "# @title Function to train and evaluate RNN model\n",
        "def train_evaluate_rnn(X_train, y_train, X_val, y_val, X_test, y_test, input_shape, activation, optimizer, epochs, batch_size=64):\n",
        "    model = build_rnn_model(input_shape, activation, optimizer)\n",
        "    es = EarlyStopping(monitor='val_loss', mode='min', patience=20, restore_best_weights=True)\n",
        "    history = model.fit(X_train, y_train, epochs=epochs, batch_size=batch_size, validation_data=(X_val, y_val), callbacks=[es])\n",
        "\n",
        "    # Plot training and validation losses\n",
        "    plt.plot(history.history['loss'], label='Training Loss')\n",
        "    plt.plot(history.history['val_loss'], label='Validation Loss')\n",
        "    plt.title('RNN Model Loss')\n",
        "    plt.xlabel('Epochs')\n",
        "    plt.ylabel('Loss')\n",
        "    plt.legend()\n",
        "    plt.show()\n",
        "\n",
        "    # Evaluate on test set\n",
        "    y_pred_scaled = model.predict(X_test)\n",
        "\n",
        "    # Inverse transform the scaled predictions\n",
        "    y_pred = scaler_target.inverse_transform(y_pred_scaled)\n",
        "\n",
        "# Calculate evaluation metrics\n",
        "    mse = mean_squared_error(y_test, y_pred)\n",
        "    rmse = np.sqrt(mse)\n",
        "    mae = mean_absolute_error(y_test, y_pred)\n",
        "    r2 = r2_score(y_test, y_pred)\n",
        "\n",
        "    # Print the evaluation table\n",
        "    print(f'MSE   RMSE  MAE   R2-Score ')\n",
        "    print(f'{mse:.3f}  {rmse:.2f}  {mae:.3f}  {r2:.4f}')\n",
        "\n",
        "    # Print additional information\n",
        "    print(f'Mean Absolute Error on Test Set: {mae}')\n",
        "\n",
        "    # Return the evaluation metrics if needed\n",
        "    return mse, rmse, mae, r2\n",
        "\n",
        "\n",
        "    mae = mean_absolute_error(y_test, y_pred)\n",
        "    print(f'Mean Absolute Error on Test Set: {mae}')\n"
      ]
    },
    {
      "cell_type": "code",
      "source": [],
      "metadata": {
        "id": "gaUZlmm7Ndfy"
      },
      "execution_count": 16,
      "outputs": []
    },
    {
      "cell_type": "markdown",
      "metadata": {
        "id": "owVyvW9sVvTj"
      },
      "source": [
        "#Argument Passing"
      ]
    },
    {
      "cell_type": "code",
      "execution_count": 22,
      "metadata": {
        "id": "xxaXwbBU_yoi"
      },
      "outputs": [],
      "source": [
        "# Example usage:\n",
        "dataset = pd.read_csv('/content/drive/MyDrive/AI Flood Alert Chatbot (1)/Metrological datasets/Sukkur_Daily_Data.csv')\n",
        "epochs = 60\n",
        "activation = 'LeakyReLU'\n",
        "optimizer = 'adam'\n",
        "scaler_type = 'Standard' #''MinMax'\n",
        "test_size = 0.3\n",
        "val_size = 0.2\n"
      ]
    },
    {
      "cell_type": "markdown",
      "metadata": {
        "id": "A9z-FXfF_rOS"
      },
      "source": [
        "# Preprocess data"
      ]
    },
    {
      "cell_type": "code",
      "execution_count": 23,
      "metadata": {
        "id": "skZO8gSf_qM6"
      },
      "outputs": [],
      "source": [
        "features, target, scaler_features, scaler_target = preprocess_data(dataset, scaler_type)\n"
      ]
    },
    {
      "cell_type": "markdown",
      "metadata": {
        "id": "KHC4C6gm_n5M"
      },
      "source": [
        "# Split data"
      ]
    },
    {
      "cell_type": "code",
      "execution_count": 24,
      "metadata": {
        "id": "Ofg-ntqu_mJy"
      },
      "outputs": [],
      "source": [
        "X_train, X_test, X_val, y_train, y_test, y_val = split_data(features, target)"
      ]
    },
    {
      "cell_type": "code",
      "execution_count": 25,
      "metadata": {
        "id": "87pPEIK0cunn",
        "colab": {
          "base_uri": "https://localhost:8080/"
        },
        "outputId": "54e24a0a-69f3-4da8-a87d-6ab18f5dac70"
      },
      "outputs": [
        {
          "output_type": "stream",
          "name": "stdout",
          "text": [
            "(21903, 14)\n",
            "(21903, 1)\n",
            "(8762, 14)\n",
            "(8762, 1)\n",
            "(13143, 14)\n",
            "(13143, 1)\n"
          ]
        }
      ],
      "source": [
        "print(X_train.shape)\n",
        "print(y_train.shape)\n",
        "print(X_val.shape)\n",
        "print(y_val.shape)\n",
        "print(X_test.shape)\n",
        "print(y_test.shape)"
      ]
    },
    {
      "cell_type": "markdown",
      "metadata": {
        "id": "nfj-Rf3k_h6Z"
      },
      "source": [
        "# Build and train RNN model"
      ]
    },
    {
      "cell_type": "code",
      "execution_count": 26,
      "metadata": {
        "colab": {
          "base_uri": "https://localhost:8080/",
          "height": 1000
        },
        "id": "XbApQLSJ3xDv",
        "outputId": "b28667fa-cc52-4910-a152-a80cb3a77575"
      },
      "outputs": [
        {
          "output_type": "stream",
          "name": "stdout",
          "text": [
            "Epoch 1/60\n",
            "343/343 [==============================] - 6s 11ms/step - loss: 0.7496 - val_loss: 0.8423\n",
            "Epoch 2/60\n",
            "343/343 [==============================] - 5s 14ms/step - loss: 0.6374 - val_loss: 0.8211\n",
            "Epoch 3/60\n",
            "343/343 [==============================] - 3s 10ms/step - loss: 0.6308 - val_loss: 0.8356\n",
            "Epoch 4/60\n",
            "343/343 [==============================] - 3s 10ms/step - loss: 0.6365 - val_loss: 0.8181\n",
            "Epoch 5/60\n",
            "343/343 [==============================] - 3s 10ms/step - loss: 0.6263 - val_loss: 0.8222\n",
            "Epoch 6/60\n",
            "343/343 [==============================] - 5s 15ms/step - loss: 0.6203 - val_loss: 0.8691\n",
            "Epoch 7/60\n",
            "343/343 [==============================] - 3s 9ms/step - loss: 0.5993 - val_loss: 0.7970\n",
            "Epoch 8/60\n",
            "343/343 [==============================] - 3s 10ms/step - loss: 0.6082 - val_loss: 0.8062\n",
            "Epoch 9/60\n",
            "343/343 [==============================] - 4s 11ms/step - loss: 0.6059 - val_loss: 0.8072\n",
            "Epoch 10/60\n",
            "343/343 [==============================] - 4s 11ms/step - loss: 0.5911 - val_loss: 0.7885\n",
            "Epoch 11/60\n",
            "343/343 [==============================] - 3s 9ms/step - loss: 0.5895 - val_loss: 0.8160\n",
            "Epoch 12/60\n",
            "343/343 [==============================] - 3s 9ms/step - loss: 0.5889 - val_loss: 0.8427\n",
            "Epoch 13/60\n",
            "343/343 [==============================] - 4s 12ms/step - loss: 0.5858 - val_loss: 0.7767\n",
            "Epoch 14/60\n",
            "343/343 [==============================] - 4s 11ms/step - loss: 0.5756 - val_loss: 0.7754\n",
            "Epoch 15/60\n",
            "343/343 [==============================] - 3s 10ms/step - loss: 0.5896 - val_loss: 0.8008\n",
            "Epoch 16/60\n",
            "343/343 [==============================] - 3s 9ms/step - loss: 0.5719 - val_loss: 0.9071\n",
            "Epoch 17/60\n",
            "343/343 [==============================] - 5s 14ms/step - loss: 0.5847 - val_loss: 0.7696\n",
            "Epoch 18/60\n",
            "343/343 [==============================] - 3s 10ms/step - loss: 0.5806 - val_loss: 0.8190\n",
            "Epoch 19/60\n",
            "343/343 [==============================] - 3s 10ms/step - loss: 0.5754 - val_loss: 0.8436\n",
            "Epoch 20/60\n",
            "343/343 [==============================] - 4s 10ms/step - loss: 0.5492 - val_loss: 0.7604\n",
            "Epoch 21/60\n",
            "343/343 [==============================] - 5s 13ms/step - loss: 0.5570 - val_loss: 0.7664\n",
            "Epoch 22/60\n",
            "343/343 [==============================] - 3s 10ms/step - loss: 0.5574 - val_loss: 0.7914\n",
            "Epoch 23/60\n",
            "343/343 [==============================] - 3s 9ms/step - loss: 0.5322 - val_loss: 0.8245\n",
            "Epoch 24/60\n",
            "343/343 [==============================] - 4s 11ms/step - loss: 0.5540 - val_loss: 0.8564\n",
            "Epoch 25/60\n",
            "343/343 [==============================] - 4s 12ms/step - loss: 0.5514 - val_loss: 0.7904\n",
            "Epoch 26/60\n",
            "343/343 [==============================] - 3s 9ms/step - loss: 0.5523 - val_loss: 0.7484\n",
            "Epoch 27/60\n",
            "343/343 [==============================] - 3s 9ms/step - loss: 0.5399 - val_loss: 0.8129\n",
            "Epoch 28/60\n",
            "343/343 [==============================] - 4s 12ms/step - loss: 0.5608 - val_loss: 0.8413\n",
            "Epoch 29/60\n",
            "343/343 [==============================] - 4s 11ms/step - loss: 0.5220 - val_loss: 0.7666\n",
            "Epoch 30/60\n",
            "343/343 [==============================] - 3s 9ms/step - loss: 0.5235 - val_loss: 0.8495\n",
            "Epoch 31/60\n",
            "343/343 [==============================] - 3s 10ms/step - loss: 0.5187 - val_loss: 0.7788\n",
            "Epoch 32/60\n",
            "343/343 [==============================] - 4s 13ms/step - loss: 0.5389 - val_loss: 0.7682\n",
            "Epoch 33/60\n",
            "343/343 [==============================] - 4s 10ms/step - loss: 0.4993 - val_loss: 0.7784\n",
            "Epoch 34/60\n",
            "343/343 [==============================] - 3s 9ms/step - loss: 0.5195 - val_loss: 0.7938\n",
            "Epoch 35/60\n",
            "343/343 [==============================] - 4s 12ms/step - loss: 0.5239 - val_loss: 0.7946\n",
            "Epoch 36/60\n",
            "343/343 [==============================] - 5s 13ms/step - loss: 0.4973 - val_loss: 0.7451\n",
            "Epoch 37/60\n",
            "343/343 [==============================] - 3s 9ms/step - loss: 0.4883 - val_loss: 0.7675\n",
            "Epoch 38/60\n",
            "343/343 [==============================] - 3s 10ms/step - loss: 0.4952 - val_loss: 0.7644\n",
            "Epoch 39/60\n",
            "343/343 [==============================] - 4s 11ms/step - loss: 0.5215 - val_loss: 0.7596\n",
            "Epoch 40/60\n",
            "343/343 [==============================] - 4s 13ms/step - loss: 0.5408 - val_loss: 0.8038\n",
            "Epoch 41/60\n",
            "343/343 [==============================] - 3s 10ms/step - loss: 0.5382 - val_loss: 0.7703\n",
            "Epoch 42/60\n",
            "343/343 [==============================] - 3s 10ms/step - loss: 0.5133 - val_loss: 0.7698\n",
            "Epoch 43/60\n",
            "343/343 [==============================] - 4s 12ms/step - loss: 0.5021 - val_loss: 0.7648\n",
            "Epoch 44/60\n",
            "343/343 [==============================] - 4s 11ms/step - loss: 0.5112 - val_loss: 0.7563\n",
            "Epoch 45/60\n",
            "343/343 [==============================] - 3s 10ms/step - loss: 0.4929 - val_loss: 0.7554\n",
            "Epoch 46/60\n",
            "343/343 [==============================] - 3s 9ms/step - loss: 0.4829 - val_loss: 0.7992\n",
            "Epoch 47/60\n",
            "343/343 [==============================] - 5s 15ms/step - loss: 0.4978 - val_loss: 0.8072\n",
            "Epoch 48/60\n",
            "343/343 [==============================] - 5s 13ms/step - loss: 0.4901 - val_loss: 0.7359\n",
            "Epoch 49/60\n",
            "343/343 [==============================] - 3s 10ms/step - loss: 0.5041 - val_loss: 0.7697\n",
            "Epoch 50/60\n",
            "343/343 [==============================] - 3s 9ms/step - loss: 0.4820 - val_loss: 0.7506\n",
            "Epoch 51/60\n",
            "343/343 [==============================] - 4s 13ms/step - loss: 0.4987 - val_loss: 0.7775\n",
            "Epoch 52/60\n",
            "343/343 [==============================] - 4s 10ms/step - loss: 0.4855 - val_loss: 0.7925\n",
            "Epoch 53/60\n",
            "343/343 [==============================] - 3s 9ms/step - loss: 0.4697 - val_loss: 0.7717\n",
            "Epoch 54/60\n",
            "343/343 [==============================] - 3s 9ms/step - loss: 0.5055 - val_loss: 0.8387\n",
            "Epoch 55/60\n",
            "343/343 [==============================] - 5s 13ms/step - loss: 0.4727 - val_loss: 0.7362\n",
            "Epoch 56/60\n",
            "343/343 [==============================] - 3s 9ms/step - loss: 0.4548 - val_loss: 0.8041\n",
            "Epoch 57/60\n",
            "343/343 [==============================] - 4s 11ms/step - loss: 0.5899 - val_loss: 0.7434\n",
            "Epoch 58/60\n",
            "343/343 [==============================] - 3s 9ms/step - loss: 0.5028 - val_loss: 0.7545\n",
            "Epoch 59/60\n",
            "343/343 [==============================] - 5s 14ms/step - loss: 0.4710 - val_loss: 0.7465\n",
            "Epoch 60/60\n",
            "343/343 [==============================] - 3s 9ms/step - loss: 0.5092 - val_loss: 0.7515\n"
          ]
        },
        {
          "output_type": "display_data",
          "data": {
            "text/plain": [
              "<Figure size 640x480 with 1 Axes>"
            ],
            "image/png": "[encoded data removed]"
          },
          "metadata": {}
        },
        {
          "output_type": "stream",
          "name": "stdout",
          "text": [
            "411/411 [==============================] - 1s 3ms/step\n",
            "MSE   RMSE  MAE   R2-Score \n",
            "11.005  3.32  0.537  -7.8083\n",
            "Mean Absolute Error on Test Set: 0.5368049886884259\n"
          ]
        },
        {
          "output_type": "execute_result",
          "data": {
            "text/plain": [
              "(11.004549246948969, 3.317310544243479, 0.5368049886884259, -7.808255477867153)"
            ]
          },
          "metadata": {},
          "execution_count": 26
        }
      ],
      "source": [
        "# Assuming you have 14 features and each row is a timestep\n",
        "input_shape_rnn = (X_train.shape[1], 1)\n",
        "\n",
        "# Train and evaluate RNN model\n",
        "train_evaluate_rnn(X_train, y_train, X_val, y_val, X_test, y_test, input_shape_rnn, activation,  optimizer, epochs)"
      ]
    },
    {
      "cell_type": "code",
      "source": [],
      "metadata": {
        "id": "fYOVM84OPreS"
      },
      "execution_count": 26,
      "outputs": []
    }
  ]
}